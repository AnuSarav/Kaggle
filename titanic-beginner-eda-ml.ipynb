{
 "cells": [
  {
   "cell_type": "code",
   "execution_count": 1,
   "id": "4b49e7c8",
   "metadata": {
    "_cell_guid": "b1076dfc-b9ad-4769-8c92-a6c4dae69d19",
    "_uuid": "8f2839f25d086af736a60e9eeb907d3b93b6e0e5",
    "execution": {
     "iopub.execute_input": "2021-08-17T12:07:11.252682Z",
     "iopub.status.busy": "2021-08-17T12:07:11.251506Z",
     "iopub.status.idle": "2021-08-17T12:07:11.265216Z",
     "shell.execute_reply": "2021-08-17T12:07:11.265912Z",
     "shell.execute_reply.started": "2021-08-17T12:06:27.554596Z"
    },
    "papermill": {
     "duration": 0.06886,
     "end_time": "2021-08-17T12:07:11.266296",
     "exception": false,
     "start_time": "2021-08-17T12:07:11.197436",
     "status": "completed"
    },
    "tags": []
   },
   "outputs": [
    {
     "name": "stdout",
     "output_type": "stream",
     "text": [
      "/kaggle/input/titanic/train.csv\n",
      "/kaggle/input/titanic/test.csv\n",
      "/kaggle/input/titanic/gender_submission.csv\n"
     ]
    }
   ],
   "source": [
    "# This Python 3 environment comes with many helpful analytics libraries installed\n",
    "# It is defined by the kaggle/python Docker image: https://github.com/kaggle/docker-python\n",
    "# For example, here's several helpful packages to load\n",
    "\n",
    "import numpy as np # linear algebra\n",
    "import pandas as pd # data processing, CSV file I/O (e.g. pd.read_csv)\n",
    "\n",
    "# Input data files are available in the read-only \"../input/\" directory\n",
    "# For example, running this (by clicking run or pressing Shift+Enter) will list all files under the input directory\n",
    "\n",
    "import os\n",
    "for dirname, _, filenames in os.walk('/kaggle/input'):\n",
    "    for filename in filenames:\n",
    "        print(os.path.join(dirname, filename))\n",
    "\n",
    "# You can write up to 20GB to the current directory (/kaggle/working/) that gets preserved as output when you create a version using \"Save & Run All\" \n",
    "# You can also write temporary files to /kaggle/temp/, but they won't be saved outside of the current session"
   ]
  },
  {
   "cell_type": "markdown",
   "id": "13ac9bfd",
   "metadata": {
    "papermill": {
     "duration": 0.050435,
     "end_time": "2021-08-17T12:07:11.367569",
     "exception": false,
     "start_time": "2021-08-17T12:07:11.317134",
     "status": "completed"
    },
    "tags": []
   },
   "source": [
    "## Loading Packages\n",
    "We are loading the necessary packages for our code."
   ]
  },
  {
   "cell_type": "code",
   "execution_count": 2,
   "id": "31f5a757",
   "metadata": {
    "execution": {
     "iopub.execute_input": "2021-08-17T12:07:11.473411Z",
     "iopub.status.busy": "2021-08-17T12:07:11.472502Z",
     "iopub.status.idle": "2021-08-17T12:07:12.479852Z",
     "shell.execute_reply": "2021-08-17T12:07:12.479244Z",
     "shell.execute_reply.started": "2021-08-17T12:06:27.566129Z"
    },
    "papermill": {
     "duration": 1.063114,
     "end_time": "2021-08-17T12:07:12.479991",
     "exception": false,
     "start_time": "2021-08-17T12:07:11.416877",
     "status": "completed"
    },
    "tags": []
   },
   "outputs": [],
   "source": [
    "import numpy as np\n",
    "import pandas as pd\n",
    "import seaborn as sns\n",
    "import matplotlib.pyplot as plt"
   ]
  },
  {
   "cell_type": "markdown",
   "id": "d3a96880",
   "metadata": {
    "papermill": {
     "duration": 0.049342,
     "end_time": "2021-08-17T12:07:12.579665",
     "exception": false,
     "start_time": "2021-08-17T12:07:12.530323",
     "status": "completed"
    },
    "tags": []
   },
   "source": [
    "### Reading the data"
   ]
  },
  {
   "cell_type": "code",
   "execution_count": 3,
   "id": "8bdc653c",
   "metadata": {
    "execution": {
     "iopub.execute_input": "2021-08-17T12:07:12.683882Z",
     "iopub.status.busy": "2021-08-17T12:07:12.683108Z",
     "iopub.status.idle": "2021-08-17T12:07:12.711084Z",
     "shell.execute_reply": "2021-08-17T12:07:12.711666Z",
     "shell.execute_reply.started": "2021-08-17T12:06:27.579205Z"
    },
    "papermill": {
     "duration": 0.082827,
     "end_time": "2021-08-17T12:07:12.711847",
     "exception": false,
     "start_time": "2021-08-17T12:07:12.629020",
     "status": "completed"
    },
    "tags": []
   },
   "outputs": [],
   "source": [
    "train = pd.read_csv('../input/titanic/train.csv')\n",
    "test = pd.read_csv('../input/titanic/test.csv')"
   ]
  },
  {
   "cell_type": "markdown",
   "id": "b8c23de4",
   "metadata": {
    "papermill": {
     "duration": 0.04947,
     "end_time": "2021-08-17T12:07:12.812475",
     "exception": false,
     "start_time": "2021-08-17T12:07:12.763005",
     "status": "completed"
    },
    "tags": []
   },
   "source": [
    "### Checking the data\n",
    "\n",
    "To know more about our dataset, we are running few lines of code to check the dimensions of our dataset, data types of the variables and basic infomation about the variables.\n"
   ]
  },
  {
   "cell_type": "code",
   "execution_count": 4,
   "id": "a6c59faa",
   "metadata": {
    "execution": {
     "iopub.execute_input": "2021-08-17T12:07:12.919524Z",
     "iopub.status.busy": "2021-08-17T12:07:12.918818Z",
     "iopub.status.idle": "2021-08-17T12:07:12.923398Z",
     "shell.execute_reply": "2021-08-17T12:07:12.922782Z",
     "shell.execute_reply.started": "2021-08-17T12:06:27.603840Z"
    },
    "papermill": {
     "duration": 0.060997,
     "end_time": "2021-08-17T12:07:12.923530",
     "exception": false,
     "start_time": "2021-08-17T12:07:12.862533",
     "status": "completed"
    },
    "tags": []
   },
   "outputs": [
    {
     "data": {
      "text/plain": [
       "(891, 12)"
      ]
     },
     "execution_count": 4,
     "metadata": {},
     "output_type": "execute_result"
    }
   ],
   "source": [
    "train.shape"
   ]
  },
  {
   "cell_type": "markdown",
   "id": "e668d633",
   "metadata": {
    "papermill": {
     "duration": 0.050016,
     "end_time": "2021-08-17T12:07:13.023930",
     "exception": false,
     "start_time": "2021-08-17T12:07:12.973914",
     "status": "completed"
    },
    "tags": []
   },
   "source": [
    "We have 891 observations with 12 features."
   ]
  },
  {
   "cell_type": "code",
   "execution_count": 5,
   "id": "8ce4c604",
   "metadata": {
    "execution": {
     "iopub.execute_input": "2021-08-17T12:07:13.139801Z",
     "iopub.status.busy": "2021-08-17T12:07:13.138978Z",
     "iopub.status.idle": "2021-08-17T12:07:13.142296Z",
     "shell.execute_reply": "2021-08-17T12:07:13.142821Z",
     "shell.execute_reply.started": "2021-08-17T12:06:27.610435Z"
    },
    "papermill": {
     "duration": 0.068155,
     "end_time": "2021-08-17T12:07:13.142977",
     "exception": false,
     "start_time": "2021-08-17T12:07:13.074822",
     "status": "completed"
    },
    "tags": []
   },
   "outputs": [
    {
     "data": {
      "text/plain": [
       "PassengerId      int64\n",
       "Survived         int64\n",
       "Pclass           int64\n",
       "Name            object\n",
       "Sex             object\n",
       "Age            float64\n",
       "SibSp            int64\n",
       "Parch            int64\n",
       "Ticket          object\n",
       "Fare           float64\n",
       "Cabin           object\n",
       "Embarked        object\n",
       "dtype: object"
      ]
     },
     "execution_count": 5,
     "metadata": {},
     "output_type": "execute_result"
    }
   ],
   "source": [
    "train.dtypes"
   ]
  },
  {
   "cell_type": "code",
   "execution_count": 6,
   "id": "f29887ad",
   "metadata": {
    "execution": {
     "iopub.execute_input": "2021-08-17T12:07:13.247807Z",
     "iopub.status.busy": "2021-08-17T12:07:13.246896Z",
     "iopub.status.idle": "2021-08-17T12:07:13.270986Z",
     "shell.execute_reply": "2021-08-17T12:07:13.270418Z",
     "shell.execute_reply.started": "2021-08-17T12:06:27.630632Z"
    },
    "papermill": {
     "duration": 0.077267,
     "end_time": "2021-08-17T12:07:13.271130",
     "exception": false,
     "start_time": "2021-08-17T12:07:13.193863",
     "status": "completed"
    },
    "tags": []
   },
   "outputs": [
    {
     "data": {
      "text/html": [
       "<div>\n",
       "<style scoped>\n",
       "    .dataframe tbody tr th:only-of-type {\n",
       "        vertical-align: middle;\n",
       "    }\n",
       "\n",
       "    .dataframe tbody tr th {\n",
       "        vertical-align: top;\n",
       "    }\n",
       "\n",
       "    .dataframe thead th {\n",
       "        text-align: right;\n",
       "    }\n",
       "</style>\n",
       "<table border=\"1\" class=\"dataframe\">\n",
       "  <thead>\n",
       "    <tr style=\"text-align: right;\">\n",
       "      <th></th>\n",
       "      <th>PassengerId</th>\n",
       "      <th>Survived</th>\n",
       "      <th>Pclass</th>\n",
       "      <th>Name</th>\n",
       "      <th>Sex</th>\n",
       "      <th>Age</th>\n",
       "      <th>SibSp</th>\n",
       "      <th>Parch</th>\n",
       "      <th>Ticket</th>\n",
       "      <th>Fare</th>\n",
       "      <th>Cabin</th>\n",
       "      <th>Embarked</th>\n",
       "    </tr>\n",
       "  </thead>\n",
       "  <tbody>\n",
       "    <tr>\n",
       "      <th>0</th>\n",
       "      <td>1</td>\n",
       "      <td>0</td>\n",
       "      <td>3</td>\n",
       "      <td>Braund, Mr. Owen Harris</td>\n",
       "      <td>male</td>\n",
       "      <td>22.0</td>\n",
       "      <td>1</td>\n",
       "      <td>0</td>\n",
       "      <td>A/5 21171</td>\n",
       "      <td>7.2500</td>\n",
       "      <td>NaN</td>\n",
       "      <td>S</td>\n",
       "    </tr>\n",
       "    <tr>\n",
       "      <th>1</th>\n",
       "      <td>2</td>\n",
       "      <td>1</td>\n",
       "      <td>1</td>\n",
       "      <td>Cumings, Mrs. John Bradley (Florence Briggs Th...</td>\n",
       "      <td>female</td>\n",
       "      <td>38.0</td>\n",
       "      <td>1</td>\n",
       "      <td>0</td>\n",
       "      <td>PC 17599</td>\n",
       "      <td>71.2833</td>\n",
       "      <td>C85</td>\n",
       "      <td>C</td>\n",
       "    </tr>\n",
       "    <tr>\n",
       "      <th>2</th>\n",
       "      <td>3</td>\n",
       "      <td>1</td>\n",
       "      <td>3</td>\n",
       "      <td>Heikkinen, Miss. Laina</td>\n",
       "      <td>female</td>\n",
       "      <td>26.0</td>\n",
       "      <td>0</td>\n",
       "      <td>0</td>\n",
       "      <td>STON/O2. 3101282</td>\n",
       "      <td>7.9250</td>\n",
       "      <td>NaN</td>\n",
       "      <td>S</td>\n",
       "    </tr>\n",
       "    <tr>\n",
       "      <th>3</th>\n",
       "      <td>4</td>\n",
       "      <td>1</td>\n",
       "      <td>1</td>\n",
       "      <td>Futrelle, Mrs. Jacques Heath (Lily May Peel)</td>\n",
       "      <td>female</td>\n",
       "      <td>35.0</td>\n",
       "      <td>1</td>\n",
       "      <td>0</td>\n",
       "      <td>113803</td>\n",
       "      <td>53.1000</td>\n",
       "      <td>C123</td>\n",
       "      <td>S</td>\n",
       "    </tr>\n",
       "    <tr>\n",
       "      <th>4</th>\n",
       "      <td>5</td>\n",
       "      <td>0</td>\n",
       "      <td>3</td>\n",
       "      <td>Allen, Mr. William Henry</td>\n",
       "      <td>male</td>\n",
       "      <td>35.0</td>\n",
       "      <td>0</td>\n",
       "      <td>0</td>\n",
       "      <td>373450</td>\n",
       "      <td>8.0500</td>\n",
       "      <td>NaN</td>\n",
       "      <td>S</td>\n",
       "    </tr>\n",
       "  </tbody>\n",
       "</table>\n",
       "</div>"
      ],
      "text/plain": [
       "   PassengerId  Survived  Pclass  \\\n",
       "0            1         0       3   \n",
       "1            2         1       1   \n",
       "2            3         1       3   \n",
       "3            4         1       1   \n",
       "4            5         0       3   \n",
       "\n",
       "                                                Name     Sex   Age  SibSp  \\\n",
       "0                            Braund, Mr. Owen Harris    male  22.0      1   \n",
       "1  Cumings, Mrs. John Bradley (Florence Briggs Th...  female  38.0      1   \n",
       "2                             Heikkinen, Miss. Laina  female  26.0      0   \n",
       "3       Futrelle, Mrs. Jacques Heath (Lily May Peel)  female  35.0      1   \n",
       "4                           Allen, Mr. William Henry    male  35.0      0   \n",
       "\n",
       "   Parch            Ticket     Fare Cabin Embarked  \n",
       "0      0         A/5 21171   7.2500   NaN        S  \n",
       "1      0          PC 17599  71.2833   C85        C  \n",
       "2      0  STON/O2. 3101282   7.9250   NaN        S  \n",
       "3      0            113803  53.1000  C123        S  \n",
       "4      0            373450   8.0500   NaN        S  "
      ]
     },
     "execution_count": 6,
     "metadata": {},
     "output_type": "execute_result"
    }
   ],
   "source": [
    "train.head()"
   ]
  },
  {
   "cell_type": "code",
   "execution_count": 7,
   "id": "08915229",
   "metadata": {
    "execution": {
     "iopub.execute_input": "2021-08-17T12:07:13.383392Z",
     "iopub.status.busy": "2021-08-17T12:07:13.382307Z",
     "iopub.status.idle": "2021-08-17T12:07:13.438339Z",
     "shell.execute_reply": "2021-08-17T12:07:13.437409Z",
     "shell.execute_reply.started": "2021-08-17T12:06:27.657376Z"
    },
    "papermill": {
     "duration": 0.116322,
     "end_time": "2021-08-17T12:07:13.438554",
     "exception": false,
     "start_time": "2021-08-17T12:07:13.322232",
     "status": "completed"
    },
    "tags": []
   },
   "outputs": [
    {
     "data": {
      "text/html": [
       "<div>\n",
       "<style scoped>\n",
       "    .dataframe tbody tr th:only-of-type {\n",
       "        vertical-align: middle;\n",
       "    }\n",
       "\n",
       "    .dataframe tbody tr th {\n",
       "        vertical-align: top;\n",
       "    }\n",
       "\n",
       "    .dataframe thead th {\n",
       "        text-align: right;\n",
       "    }\n",
       "</style>\n",
       "<table border=\"1\" class=\"dataframe\">\n",
       "  <thead>\n",
       "    <tr style=\"text-align: right;\">\n",
       "      <th></th>\n",
       "      <th>PassengerId</th>\n",
       "      <th>Survived</th>\n",
       "      <th>Pclass</th>\n",
       "      <th>Age</th>\n",
       "      <th>SibSp</th>\n",
       "      <th>Parch</th>\n",
       "      <th>Fare</th>\n",
       "    </tr>\n",
       "  </thead>\n",
       "  <tbody>\n",
       "    <tr>\n",
       "      <th>count</th>\n",
       "      <td>891.000000</td>\n",
       "      <td>891.000000</td>\n",
       "      <td>891.000000</td>\n",
       "      <td>714.000000</td>\n",
       "      <td>891.000000</td>\n",
       "      <td>891.000000</td>\n",
       "      <td>891.000000</td>\n",
       "    </tr>\n",
       "    <tr>\n",
       "      <th>mean</th>\n",
       "      <td>446.000000</td>\n",
       "      <td>0.383838</td>\n",
       "      <td>2.308642</td>\n",
       "      <td>29.699118</td>\n",
       "      <td>0.523008</td>\n",
       "      <td>0.381594</td>\n",
       "      <td>32.204208</td>\n",
       "    </tr>\n",
       "    <tr>\n",
       "      <th>std</th>\n",
       "      <td>257.353842</td>\n",
       "      <td>0.486592</td>\n",
       "      <td>0.836071</td>\n",
       "      <td>14.526497</td>\n",
       "      <td>1.102743</td>\n",
       "      <td>0.806057</td>\n",
       "      <td>49.693429</td>\n",
       "    </tr>\n",
       "    <tr>\n",
       "      <th>min</th>\n",
       "      <td>1.000000</td>\n",
       "      <td>0.000000</td>\n",
       "      <td>1.000000</td>\n",
       "      <td>0.420000</td>\n",
       "      <td>0.000000</td>\n",
       "      <td>0.000000</td>\n",
       "      <td>0.000000</td>\n",
       "    </tr>\n",
       "    <tr>\n",
       "      <th>25%</th>\n",
       "      <td>223.500000</td>\n",
       "      <td>0.000000</td>\n",
       "      <td>2.000000</td>\n",
       "      <td>20.125000</td>\n",
       "      <td>0.000000</td>\n",
       "      <td>0.000000</td>\n",
       "      <td>7.910400</td>\n",
       "    </tr>\n",
       "    <tr>\n",
       "      <th>50%</th>\n",
       "      <td>446.000000</td>\n",
       "      <td>0.000000</td>\n",
       "      <td>3.000000</td>\n",
       "      <td>28.000000</td>\n",
       "      <td>0.000000</td>\n",
       "      <td>0.000000</td>\n",
       "      <td>14.454200</td>\n",
       "    </tr>\n",
       "    <tr>\n",
       "      <th>75%</th>\n",
       "      <td>668.500000</td>\n",
       "      <td>1.000000</td>\n",
       "      <td>3.000000</td>\n",
       "      <td>38.000000</td>\n",
       "      <td>1.000000</td>\n",
       "      <td>0.000000</td>\n",
       "      <td>31.000000</td>\n",
       "    </tr>\n",
       "    <tr>\n",
       "      <th>max</th>\n",
       "      <td>891.000000</td>\n",
       "      <td>1.000000</td>\n",
       "      <td>3.000000</td>\n",
       "      <td>80.000000</td>\n",
       "      <td>8.000000</td>\n",
       "      <td>6.000000</td>\n",
       "      <td>512.329200</td>\n",
       "    </tr>\n",
       "  </tbody>\n",
       "</table>\n",
       "</div>"
      ],
      "text/plain": [
       "       PassengerId    Survived      Pclass         Age       SibSp  \\\n",
       "count   891.000000  891.000000  891.000000  714.000000  891.000000   \n",
       "mean    446.000000    0.383838    2.308642   29.699118    0.523008   \n",
       "std     257.353842    0.486592    0.836071   14.526497    1.102743   \n",
       "min       1.000000    0.000000    1.000000    0.420000    0.000000   \n",
       "25%     223.500000    0.000000    2.000000   20.125000    0.000000   \n",
       "50%     446.000000    0.000000    3.000000   28.000000    0.000000   \n",
       "75%     668.500000    1.000000    3.000000   38.000000    1.000000   \n",
       "max     891.000000    1.000000    3.000000   80.000000    8.000000   \n",
       "\n",
       "            Parch        Fare  \n",
       "count  891.000000  891.000000  \n",
       "mean     0.381594   32.204208  \n",
       "std      0.806057   49.693429  \n",
       "min      0.000000    0.000000  \n",
       "25%      0.000000    7.910400  \n",
       "50%      0.000000   14.454200  \n",
       "75%      0.000000   31.000000  \n",
       "max      6.000000  512.329200  "
      ]
     },
     "execution_count": 7,
     "metadata": {},
     "output_type": "execute_result"
    }
   ],
   "source": [
    "train.describe()"
   ]
  },
  {
   "cell_type": "markdown",
   "id": "f5911399",
   "metadata": {
    "papermill": {
     "duration": 0.076112,
     "end_time": "2021-08-17T12:07:13.591315",
     "exception": false,
     "start_time": "2021-08-17T12:07:13.515203",
     "status": "completed"
    },
    "tags": []
   },
   "source": [
    "* From the min and max of age column, we can observe the passengers age ranges from 4 months to 80 years . Also 75% of the passengers were less than 38 years old.\n",
    "\n",
    "* Looking at the Fare column, we can spot that there some passengers were allowed to travel for free.\n"
   ]
  },
  {
   "cell_type": "markdown",
   "id": "cb6662bb",
   "metadata": {
    "papermill": {
     "duration": 0.063334,
     "end_time": "2021-08-17T12:07:13.709591",
     "exception": false,
     "start_time": "2021-08-17T12:07:13.646257",
     "status": "completed"
    },
    "tags": []
   },
   "source": [
    "## Data Preprocessing\n",
    "\n",
    "### Null value check\n"
   ]
  },
  {
   "cell_type": "code",
   "execution_count": 8,
   "id": "1b6bf129",
   "metadata": {
    "execution": {
     "iopub.execute_input": "2021-08-17T12:07:13.826544Z",
     "iopub.status.busy": "2021-08-17T12:07:13.825670Z",
     "iopub.status.idle": "2021-08-17T12:07:13.836164Z",
     "shell.execute_reply": "2021-08-17T12:07:13.836659Z",
     "shell.execute_reply.started": "2021-08-17T12:06:27.703036Z"
    },
    "papermill": {
     "duration": 0.066026,
     "end_time": "2021-08-17T12:07:13.836839",
     "exception": false,
     "start_time": "2021-08-17T12:07:13.770813",
     "status": "completed"
    },
    "tags": []
   },
   "outputs": [
    {
     "data": {
      "text/plain": [
       "PassengerId      0\n",
       "Survived         0\n",
       "Pclass           0\n",
       "Name             0\n",
       "Sex              0\n",
       "Age            177\n",
       "SibSp            0\n",
       "Parch            0\n",
       "Ticket           0\n",
       "Fare             0\n",
       "Cabin          687\n",
       "Embarked         2\n",
       "dtype: int64"
      ]
     },
     "execution_count": 8,
     "metadata": {},
     "output_type": "execute_result"
    }
   ],
   "source": [
    "train.isnull().sum()"
   ]
  },
  {
   "cell_type": "markdown",
   "id": "97d52095",
   "metadata": {
    "papermill": {
     "duration": 0.052867,
     "end_time": "2021-08-17T12:07:13.941382",
     "exception": false,
     "start_time": "2021-08-17T12:07:13.888515",
     "status": "completed"
    },
    "tags": []
   },
   "source": [
    "Since Cabin has null values in majority, we will drop it."
   ]
  },
  {
   "cell_type": "code",
   "execution_count": 9,
   "id": "a9269b9f",
   "metadata": {
    "execution": {
     "iopub.execute_input": "2021-08-17T12:07:14.048256Z",
     "iopub.status.busy": "2021-08-17T12:07:14.047572Z",
     "iopub.status.idle": "2021-08-17T12:07:14.053854Z",
     "shell.execute_reply": "2021-08-17T12:07:14.054352Z",
     "shell.execute_reply.started": "2021-08-17T12:06:27.715188Z"
    },
    "papermill": {
     "duration": 0.061382,
     "end_time": "2021-08-17T12:07:14.054517",
     "exception": false,
     "start_time": "2021-08-17T12:07:13.993135",
     "status": "completed"
    },
    "tags": []
   },
   "outputs": [],
   "source": [
    "train.drop(['Cabin'], axis = 1, inplace = True)\n"
   ]
  },
  {
   "cell_type": "markdown",
   "id": "67a11bbe",
   "metadata": {
    "papermill": {
     "duration": 0.051484,
     "end_time": "2021-08-17T12:07:14.158450",
     "exception": false,
     "start_time": "2021-08-17T12:07:14.106966",
     "status": "completed"
    },
    "tags": []
   },
   "source": [
    "## Understanding the data \n",
    "\n",
    "Let's first check how many passengers survived."
   ]
  },
  {
   "cell_type": "code",
   "execution_count": 10,
   "id": "56889a6c",
   "metadata": {
    "execution": {
     "iopub.execute_input": "2021-08-17T12:07:14.267595Z",
     "iopub.status.busy": "2021-08-17T12:07:14.266980Z",
     "iopub.status.idle": "2021-08-17T12:07:14.276516Z",
     "shell.execute_reply": "2021-08-17T12:07:14.276028Z",
     "shell.execute_reply.started": "2021-08-17T12:06:27.738929Z"
    },
    "papermill": {
     "duration": 0.063767,
     "end_time": "2021-08-17T12:07:14.276679",
     "exception": false,
     "start_time": "2021-08-17T12:07:14.212912",
     "status": "completed"
    },
    "tags": []
   },
   "outputs": [
    {
     "data": {
      "text/plain": [
       "0    549\n",
       "1    342\n",
       "Name: Survived, dtype: int64"
      ]
     },
     "execution_count": 10,
     "metadata": {},
     "output_type": "execute_result"
    }
   ],
   "source": [
    "train['Survived'].value_counts()"
   ]
  },
  {
   "cell_type": "markdown",
   "id": "c958e3ab",
   "metadata": {
    "papermill": {
     "duration": 0.05136,
     "end_time": "2021-08-17T12:07:14.380480",
     "exception": false,
     "start_time": "2021-08-17T12:07:14.329120",
     "status": "completed"
    },
    "tags": []
   },
   "source": [
    "Out of 891 passengers, only 342 passengers survived. Now let's look into the survival percentage."
   ]
  },
  {
   "cell_type": "code",
   "execution_count": 11,
   "id": "3f7a847a",
   "metadata": {
    "execution": {
     "iopub.execute_input": "2021-08-17T12:07:14.489926Z",
     "iopub.status.busy": "2021-08-17T12:07:14.489280Z",
     "iopub.status.idle": "2021-08-17T12:07:14.509608Z",
     "shell.execute_reply": "2021-08-17T12:07:14.509113Z",
     "shell.execute_reply.started": "2021-08-17T12:06:27.750779Z"
    },
    "papermill": {
     "duration": 0.077331,
     "end_time": "2021-08-17T12:07:14.509767",
     "exception": false,
     "start_time": "2021-08-17T12:07:14.432436",
     "status": "completed"
    },
    "tags": []
   },
   "outputs": [
    {
     "data": {
      "text/plain": [
       "0    0.616162\n",
       "1    0.383838\n",
       "Name: Survived, dtype: float64"
      ]
     },
     "execution_count": 11,
     "metadata": {},
     "output_type": "execute_result"
    }
   ],
   "source": [
    "train['Survived'].value_counts()/train.shape[0]"
   ]
  },
  {
   "cell_type": "markdown",
   "id": "6ae07e46",
   "metadata": {
    "papermill": {
     "duration": 0.051993,
     "end_time": "2021-08-17T12:07:14.614314",
     "exception": false,
     "start_time": "2021-08-17T12:07:14.562321",
     "status": "completed"
    },
    "tags": []
   },
   "source": [
    "only 38.38% of passengers survived. The rest 61.61% did not."
   ]
  },
  {
   "cell_type": "markdown",
   "id": "04067328",
   "metadata": {
    "papermill": {
     "duration": 0.051934,
     "end_time": "2021-08-17T12:07:14.718616",
     "exception": false,
     "start_time": "2021-08-17T12:07:14.666682",
     "status": "completed"
    },
    "tags": []
   },
   "source": [
    "**Analysing Pclass feature**\n",
    "\n",
    "\n",
    "First, we will analyse the 'Pclass' feature."
   ]
  },
  {
   "cell_type": "code",
   "execution_count": 12,
   "id": "71d835fc",
   "metadata": {
    "execution": {
     "iopub.execute_input": "2021-08-17T12:07:14.848787Z",
     "iopub.status.busy": "2021-08-17T12:07:14.848130Z",
     "iopub.status.idle": "2021-08-17T12:07:15.019459Z",
     "shell.execute_reply": "2021-08-17T12:07:15.019955Z",
     "shell.execute_reply.started": "2021-08-17T12:06:27.765788Z"
    },
    "papermill": {
     "duration": 0.24943,
     "end_time": "2021-08-17T12:07:15.020116",
     "exception": false,
     "start_time": "2021-08-17T12:07:14.770686",
     "status": "completed"
    },
    "tags": []
   },
   "outputs": [
    {
     "data": {
      "image/png": "[encoded data removed]",
      "text/plain": [
       "<Figure size 720x360 with 1 Axes>"
      ]
     },
     "metadata": {
      "needs_background": "light"
     },
     "output_type": "display_data"
    }
   ],
   "source": [
    "color = sns.color_palette('viridis')\n",
    "pclass_survived=train.groupby('Pclass')['Survived'].count()\n",
    "plt.subplots(figsize=(10,5))\n",
    "pclass_survived.plot(kind='bar', fontsize=12, color=color)\n",
    "plt.xticks(rotation=0)\n",
    "plt.xlabel('Pclass', fontsize=12)\n",
    "plt.ylabel('Number of Passengers', fontsize=12)\n",
    "plt.title('Distribution of passengers in Pclass', fontsize=12)\n",
    "plt.show()"
   ]
  },
  {
   "cell_type": "code",
   "execution_count": 13,
   "id": "81137c36",
   "metadata": {
    "execution": {
     "iopub.execute_input": "2021-08-17T12:07:15.135115Z",
     "iopub.status.busy": "2021-08-17T12:07:15.134447Z",
     "iopub.status.idle": "2021-08-17T12:07:15.136886Z",
     "shell.execute_reply": "2021-08-17T12:07:15.137489Z",
     "shell.execute_reply.started": "2021-08-17T12:06:27.910770Z"
    },
    "papermill": {
     "duration": 0.064266,
     "end_time": "2021-08-17T12:07:15.137668",
     "exception": false,
     "start_time": "2021-08-17T12:07:15.073402",
     "status": "completed"
    },
    "tags": []
   },
   "outputs": [
    {
     "data": {
      "text/plain": [
       "3    491\n",
       "1    216\n",
       "2    184\n",
       "Name: Pclass, dtype: int64"
      ]
     },
     "execution_count": 13,
     "metadata": {},
     "output_type": "execute_result"
    }
   ],
   "source": [
    "train.Pclass.value_counts()"
   ]
  },
  {
   "cell_type": "code",
   "execution_count": 14,
   "id": "6be68dca",
   "metadata": {
    "execution": {
     "iopub.execute_input": "2021-08-17T12:07:15.250011Z",
     "iopub.status.busy": "2021-08-17T12:07:15.249279Z",
     "iopub.status.idle": "2021-08-17T12:07:15.256912Z",
     "shell.execute_reply": "2021-08-17T12:07:15.257689Z",
     "shell.execute_reply.started": "2021-08-17T12:06:27.918772Z"
    },
    "papermill": {
     "duration": 0.064996,
     "end_time": "2021-08-17T12:07:15.257870",
     "exception": false,
     "start_time": "2021-08-17T12:07:15.192874",
     "status": "completed"
    },
    "tags": []
   },
   "outputs": [
    {
     "data": {
      "text/plain": [
       "Pclass\n",
       "1    84.154687\n",
       "2    20.662183\n",
       "3    13.675550\n",
       "Name: Fare, dtype: float64"
      ]
     },
     "execution_count": 14,
     "metadata": {},
     "output_type": "execute_result"
    }
   ],
   "source": [
    "train.groupby('Pclass')['Fare'].mean()"
   ]
  },
  {
   "cell_type": "markdown",
   "id": "34e093bd",
   "metadata": {
    "papermill": {
     "duration": 0.053804,
     "end_time": "2021-08-17T12:07:15.366383",
     "exception": false,
     "start_time": "2021-08-17T12:07:15.312579",
     "status": "completed"
    },
    "tags": []
   },
   "source": [
    "The fare for Pclass 1 is high compared to the other classes.\n",
    "Pclass 3 has the least fare. So there are more number of passengers in Pclass 3."
   ]
  },
  {
   "cell_type": "code",
   "execution_count": 15,
   "id": "995c8904",
   "metadata": {
    "execution": {
     "iopub.execute_input": "2021-08-17T12:07:15.477652Z",
     "iopub.status.busy": "2021-08-17T12:07:15.477009Z",
     "iopub.status.idle": "2021-08-17T12:07:15.651938Z",
     "shell.execute_reply": "2021-08-17T12:07:15.652443Z",
     "shell.execute_reply.started": "2021-08-17T12:06:27.936091Z"
    },
    "papermill": {
     "duration": 0.231929,
     "end_time": "2021-08-17T12:07:15.652605",
     "exception": false,
     "start_time": "2021-08-17T12:07:15.420676",
     "status": "completed"
    },
    "tags": []
   },
   "outputs": [
    {
     "data": {
      "image/png": "[encoded data removed]",
      "text/plain": [
       "<Figure size 432x288 with 1 Axes>"
      ]
     },
     "metadata": {
      "needs_background": "light"
     },
     "output_type": "display_data"
    }
   ],
   "source": [
    "\n",
    "sns.countplot(x='Survived',hue='Pclass',data=train,palette='viridis').set(title='Survival Distribution by Pclass')\n",
    "plt.show()"
   ]
  },
  {
   "cell_type": "markdown",
   "id": "8c466a98",
   "metadata": {
    "papermill": {
     "duration": 0.054511,
     "end_time": "2021-08-17T12:07:15.762017",
     "exception": false,
     "start_time": "2021-08-17T12:07:15.707506",
     "status": "completed"
    },
    "tags": []
   },
   "source": [
    "The survival rate of passengers in Pclass 1 is more as they are the rich ones, who had paid more fare."
   ]
  },
  {
   "cell_type": "code",
   "execution_count": 16,
   "id": "0def7938",
   "metadata": {
    "execution": {
     "iopub.execute_input": "2021-08-17T12:07:15.874143Z",
     "iopub.status.busy": "2021-08-17T12:07:15.873507Z",
     "iopub.status.idle": "2021-08-17T12:07:16.374232Z",
     "shell.execute_reply": "2021-08-17T12:07:16.374780Z",
     "shell.execute_reply.started": "2021-08-17T12:06:28.097851Z"
    },
    "papermill": {
     "duration": 0.558102,
     "end_time": "2021-08-17T12:07:16.374942",
     "exception": false,
     "start_time": "2021-08-17T12:07:15.816840",
     "status": "completed"
    },
    "tags": []
   },
   "outputs": [
    {
     "data": {
      "image/png": "[encoded data removed]",
      "text/plain": [
       "<Figure size 790.5x360 with 2 Axes>"
      ]
     },
     "metadata": {
      "needs_background": "light"
     },
     "output_type": "display_data"
    }
   ],
   "source": [
    "g = sns.catplot(x=\"Pclass\", hue=\"Sex\", col=\"Survived\",\n",
    "                data=train, palette='viridis',kind=\"count\");"
   ]
  },
  {
   "cell_type": "markdown",
   "id": "bf4909d0",
   "metadata": {
    "papermill": {
     "duration": 0.05545,
     "end_time": "2021-08-17T12:07:16.485682",
     "exception": false,
     "start_time": "2021-08-17T12:07:16.430232",
     "status": "completed"
    },
    "tags": []
   },
   "source": [
    "* We can visualize that, survival rate of women is more than men in all the classes.\n",
    "\n",
    "* Passengers from Pclass '1' survived more than any other class.\n",
    "\n",
    "* Also lot of passengers from Pclass '3' didn't survive."
   ]
  },
  {
   "cell_type": "markdown",
   "id": "bc20a005",
   "metadata": {
    "papermill": {
     "duration": 0.054686,
     "end_time": "2021-08-17T12:07:16.595498",
     "exception": false,
     "start_time": "2021-08-17T12:07:16.540812",
     "status": "completed"
    },
    "tags": []
   },
   "source": [
    "**Analysing Embarked feature**\n"
   ]
  },
  {
   "cell_type": "code",
   "execution_count": 17,
   "id": "ab44bf4a",
   "metadata": {
    "execution": {
     "iopub.execute_input": "2021-08-17T12:07:16.709320Z",
     "iopub.status.busy": "2021-08-17T12:07:16.708626Z",
     "iopub.status.idle": "2021-08-17T12:07:16.715697Z",
     "shell.execute_reply": "2021-08-17T12:07:16.716344Z",
     "shell.execute_reply.started": "2021-08-17T12:06:28.582089Z"
    },
    "papermill": {
     "duration": 0.065469,
     "end_time": "2021-08-17T12:07:16.716515",
     "exception": false,
     "start_time": "2021-08-17T12:07:16.651046",
     "status": "completed"
    },
    "tags": []
   },
   "outputs": [
    {
     "data": {
      "text/plain": [
       "S    644\n",
       "C    168\n",
       "Q     77\n",
       "Name: Embarked, dtype: int64"
      ]
     },
     "execution_count": 17,
     "metadata": {},
     "output_type": "execute_result"
    }
   ],
   "source": [
    "train.Embarked.value_counts()"
   ]
  },
  {
   "cell_type": "code",
   "execution_count": 18,
   "id": "4a60c055",
   "metadata": {
    "execution": {
     "iopub.execute_input": "2021-08-17T12:07:16.833026Z",
     "iopub.status.busy": "2021-08-17T12:07:16.832353Z",
     "iopub.status.idle": "2021-08-17T12:07:17.011186Z",
     "shell.execute_reply": "2021-08-17T12:07:17.011690Z",
     "shell.execute_reply.started": "2021-08-17T12:06:28.594101Z"
    },
    "papermill": {
     "duration": 0.237882,
     "end_time": "2021-08-17T12:07:17.011865",
     "exception": false,
     "start_time": "2021-08-17T12:07:16.773983",
     "status": "completed"
    },
    "tags": []
   },
   "outputs": [
    {
     "data": {
      "image/png": "[encoded data removed]",
      "text/plain": [
       "<Figure size 432x288 with 1 Axes>"
      ]
     },
     "metadata": {
      "needs_background": "light"
     },
     "output_type": "display_data"
    }
   ],
   "source": [
    "sns.countplot(x='Survived',hue='Embarked',data=train,palette='viridis').set(title='Survival Distribution by Embarked port')\n",
    "plt.show()"
   ]
  },
  {
   "cell_type": "markdown",
   "id": "b70e9ef3",
   "metadata": {
    "papermill": {
     "duration": 0.057658,
     "end_time": "2021-08-17T12:07:17.127034",
     "exception": false,
     "start_time": "2021-08-17T12:07:17.069376",
     "status": "completed"
    },
    "tags": []
   },
   "source": [
    "* Lot of passengers from 'S' Embarked did not survive.\n",
    "\n",
    "* Only few passengers have Embarked from 'Q'."
   ]
  },
  {
   "cell_type": "code",
   "execution_count": 19,
   "id": "ad80e044",
   "metadata": {
    "execution": {
     "iopub.execute_input": "2021-08-17T12:07:17.243550Z",
     "iopub.status.busy": "2021-08-17T12:07:17.242919Z",
     "iopub.status.idle": "2021-08-17T12:07:17.757779Z",
     "shell.execute_reply": "2021-08-17T12:07:17.758279Z",
     "shell.execute_reply.started": "2021-08-17T12:06:28.756558Z"
    },
    "papermill": {
     "duration": 0.574744,
     "end_time": "2021-08-17T12:07:17.758449",
     "exception": false,
     "start_time": "2021-08-17T12:07:17.183705",
     "status": "completed"
    },
    "tags": []
   },
   "outputs": [
    {
     "data": {
      "image/png": "[encoded data removed]",
      "text/plain": [
       "<Figure size 790.5x360 with 2 Axes>"
      ]
     },
     "metadata": {
      "needs_background": "light"
     },
     "output_type": "display_data"
    }
   ],
   "source": [
    "g = sns.catplot(x=\"Embarked\", hue=\"Sex\", col=\"Survived\",\n",
    "                data=train, palette='viridis',kind=\"count\");"
   ]
  },
  {
   "cell_type": "code",
   "execution_count": 20,
   "id": "425eebc6",
   "metadata": {
    "execution": {
     "iopub.execute_input": "2021-08-17T12:07:17.880047Z",
     "iopub.status.busy": "2021-08-17T12:07:17.879354Z",
     "iopub.status.idle": "2021-08-17T12:07:18.177923Z",
     "shell.execute_reply": "2021-08-17T12:07:18.177391Z",
     "shell.execute_reply.started": "2021-08-17T12:06:29.212665Z"
    },
    "papermill": {
     "duration": 0.36253,
     "end_time": "2021-08-17T12:07:18.178060",
     "exception": false,
     "start_time": "2021-08-17T12:07:17.815530",
     "status": "completed"
    },
    "tags": []
   },
   "outputs": [
    {
     "data": {
      "image/png": "[encoded data removed]",
      "text/plain": [
       "<Figure size 432x288 with 1 Axes>"
      ]
     },
     "metadata": {
      "needs_background": "light"
     },
     "output_type": "display_data"
    }
   ],
   "source": [
    "sns.countplot(x='Pclass',hue='Embarked',data=train,palette='viridis').set(title='Survival Distribution depending on Embarked place')\n",
    "plt.show()"
   ]
  },
  {
   "cell_type": "markdown",
   "id": "545cd582",
   "metadata": {
    "papermill": {
     "duration": 0.057403,
     "end_time": "2021-08-17T12:07:18.293745",
     "exception": false,
     "start_time": "2021-08-17T12:07:18.236342",
     "status": "completed"
    },
    "tags": []
   },
   "source": [
    "Pclass '1' passengers have not Embarked much in 'Q'. So let's check the fares for the Embarked ports."
   ]
  },
  {
   "cell_type": "code",
   "execution_count": 21,
   "id": "b1b72212",
   "metadata": {
    "execution": {
     "iopub.execute_input": "2021-08-17T12:07:18.417912Z",
     "iopub.status.busy": "2021-08-17T12:07:18.416998Z",
     "iopub.status.idle": "2021-08-17T12:07:18.421307Z",
     "shell.execute_reply": "2021-08-17T12:07:18.420833Z",
     "shell.execute_reply.started": "2021-08-17T12:06:29.381826Z"
    },
    "papermill": {
     "duration": 0.069919,
     "end_time": "2021-08-17T12:07:18.421444",
     "exception": false,
     "start_time": "2021-08-17T12:07:18.351525",
     "status": "completed"
    },
    "tags": []
   },
   "outputs": [
    {
     "data": {
      "text/plain": [
       "Embarked\n",
       "C    59.954144\n",
       "Q    13.276030\n",
       "S    27.079812\n",
       "Name: Fare, dtype: float64"
      ]
     },
     "execution_count": 21,
     "metadata": {},
     "output_type": "execute_result"
    }
   ],
   "source": [
    "train.groupby('Embarked')['Fare'].mean()"
   ]
  },
  {
   "cell_type": "markdown",
   "id": "b0f5c82e",
   "metadata": {
    "papermill": {
     "duration": 0.05777,
     "end_time": "2021-08-17T12:07:18.537387",
     "exception": false,
     "start_time": "2021-08-17T12:07:18.479617",
     "status": "completed"
    },
    "tags": []
   },
   "source": [
    "Since 'Q' port has low mean fare, not much Pclass '1' passengers have boarded from that port."
   ]
  },
  {
   "cell_type": "markdown",
   "id": "e7b8d5b5",
   "metadata": {
    "papermill": {
     "duration": 0.057919,
     "end_time": "2021-08-17T12:07:18.653545",
     "exception": false,
     "start_time": "2021-08-17T12:07:18.595626",
     "status": "completed"
    },
    "tags": []
   },
   "source": [
    "**Analysing Parch and SipSp feature**"
   ]
  },
  {
   "cell_type": "code",
   "execution_count": 22,
   "id": "ab61f15e",
   "metadata": {
    "execution": {
     "iopub.execute_input": "2021-08-17T12:07:18.776296Z",
     "iopub.status.busy": "2021-08-17T12:07:18.775292Z",
     "iopub.status.idle": "2021-08-17T12:07:18.985862Z",
     "shell.execute_reply": "2021-08-17T12:07:18.986329Z",
     "shell.execute_reply.started": "2021-08-17T12:06:29.392984Z"
    },
    "papermill": {
     "duration": 0.274779,
     "end_time": "2021-08-17T12:07:18.986509",
     "exception": false,
     "start_time": "2021-08-17T12:07:18.711730",
     "status": "completed"
    },
    "tags": []
   },
   "outputs": [
    {
     "data": {
      "image/png": "[encoded data removed]",
      "text/plain": [
       "<Figure size 432x288 with 1 Axes>"
      ]
     },
     "metadata": {
      "needs_background": "light"
     },
     "output_type": "display_data"
    }
   ],
   "source": [
    "sns.countplot(x='Parch',hue='Survived',data=train,palette='viridis').set(title='Survival Distribution by Parch')\n",
    "plt.show()"
   ]
  },
  {
   "cell_type": "code",
   "execution_count": 23,
   "id": "a3e35c78",
   "metadata": {
    "execution": {
     "iopub.execute_input": "2021-08-17T12:07:19.109218Z",
     "iopub.status.busy": "2021-08-17T12:07:19.108224Z",
     "iopub.status.idle": "2021-08-17T12:07:19.341340Z",
     "shell.execute_reply": "2021-08-17T12:07:19.341856Z",
     "shell.execute_reply.started": "2021-08-17T12:06:29.581817Z"
    },
    "papermill": {
     "duration": 0.296491,
     "end_time": "2021-08-17T12:07:19.342016",
     "exception": false,
     "start_time": "2021-08-17T12:07:19.045525",
     "status": "completed"
    },
    "tags": []
   },
   "outputs": [
    {
     "data": {
      "image/png": "[encoded data removed]",
      "text/plain": [
       "<Figure size 432x288 with 1 Axes>"
      ]
     },
     "metadata": {
      "needs_background": "light"
     },
     "output_type": "display_data"
    }
   ],
   "source": [
    "sns.countplot(x='SibSp',hue='Survived',data=train,palette='viridis').set(title='Survival Distribution by SipSp')\n",
    "plt.show()"
   ]
  },
  {
   "cell_type": "markdown",
   "id": "b8ac434f",
   "metadata": {
    "papermill": {
     "duration": 0.059255,
     "end_time": "2021-08-17T12:07:19.460846",
     "exception": false,
     "start_time": "2021-08-17T12:07:19.401591",
     "status": "completed"
    },
    "tags": []
   },
   "source": [
    "The survival of passengers depended on the size of the family. The bigger the family, they were less likely to survive."
   ]
  },
  {
   "cell_type": "markdown",
   "id": "1f08ab7e",
   "metadata": {
    "papermill": {
     "duration": 0.060178,
     "end_time": "2021-08-17T12:07:19.580838",
     "exception": false,
     "start_time": "2021-08-17T12:07:19.520660",
     "status": "completed"
    },
    "tags": []
   },
   "source": [
    "## **Corelation Check**"
   ]
  },
  {
   "cell_type": "code",
   "execution_count": 24,
   "id": "f29a09eb",
   "metadata": {
    "execution": {
     "iopub.execute_input": "2021-08-17T12:07:19.705415Z",
     "iopub.status.busy": "2021-08-17T12:07:19.704436Z",
     "iopub.status.idle": "2021-08-17T12:07:20.298052Z",
     "shell.execute_reply": "2021-08-17T12:07:20.297493Z",
     "shell.execute_reply.started": "2021-08-17T12:06:29.946276Z"
    },
    "papermill": {
     "duration": 0.656814,
     "end_time": "2021-08-17T12:07:20.298203",
     "exception": false,
     "start_time": "2021-08-17T12:07:19.641389",
     "status": "completed"
    },
    "tags": []
   },
   "outputs": [
    {
     "data": {
      "text/plain": [
       "<AxesSubplot:>"
      ]
     },
     "execution_count": 24,
     "metadata": {},
     "output_type": "execute_result"
    },
    {
     "data": {
      "image/png": "[encoded data removed]",
      "text/plain": [
       "<Figure size 432x288 with 2 Axes>"
      ]
     },
     "metadata": {
      "needs_background": "light"
     },
     "output_type": "display_data"
    }
   ],
   "source": [
    "corrDf = train.corr()\n",
    "sns.heatmap(corrDf, \n",
    "        xticklabels=corrDf.columns,\n",
    "        yticklabels=corrDf.columns,annot=True, cmap='viridis')"
   ]
  },
  {
   "cell_type": "markdown",
   "id": "c066eda2",
   "metadata": {
    "papermill": {
     "duration": 0.060499,
     "end_time": "2021-08-17T12:07:20.420291",
     "exception": false,
     "start_time": "2021-08-17T12:07:20.359792",
     "status": "completed"
    },
    "tags": []
   },
   "source": [
    "## Test set preparation"
   ]
  },
  {
   "cell_type": "code",
   "execution_count": 25,
   "id": "713b9b13",
   "metadata": {
    "execution": {
     "iopub.execute_input": "2021-08-17T12:07:20.548716Z",
     "iopub.status.busy": "2021-08-17T12:07:20.548088Z",
     "iopub.status.idle": "2021-08-17T12:07:20.552760Z",
     "shell.execute_reply": "2021-08-17T12:07:20.552243Z",
     "shell.execute_reply.started": "2021-08-17T12:06:30.459426Z"
    },
    "papermill": {
     "duration": 0.071061,
     "end_time": "2021-08-17T12:07:20.552892",
     "exception": false,
     "start_time": "2021-08-17T12:07:20.481831",
     "status": "completed"
    },
    "tags": []
   },
   "outputs": [
    {
     "data": {
      "text/plain": [
       "(418, 11)"
      ]
     },
     "execution_count": 25,
     "metadata": {},
     "output_type": "execute_result"
    }
   ],
   "source": [
    "test.shape"
   ]
  },
  {
   "cell_type": "code",
   "execution_count": 26,
   "id": "6d4ac316",
   "metadata": {
    "execution": {
     "iopub.execute_input": "2021-08-17T12:07:20.692827Z",
     "iopub.status.busy": "2021-08-17T12:07:20.692102Z",
     "iopub.status.idle": "2021-08-17T12:07:20.694943Z",
     "shell.execute_reply": "2021-08-17T12:07:20.695569Z",
     "shell.execute_reply.started": "2021-08-17T12:06:30.469249Z"
    },
    "papermill": {
     "duration": 0.081273,
     "end_time": "2021-08-17T12:07:20.695760",
     "exception": false,
     "start_time": "2021-08-17T12:07:20.614487",
     "status": "completed"
    },
    "tags": []
   },
   "outputs": [
    {
     "data": {
      "text/html": [
       "<div>\n",
       "<style scoped>\n",
       "    .dataframe tbody tr th:only-of-type {\n",
       "        vertical-align: middle;\n",
       "    }\n",
       "\n",
       "    .dataframe tbody tr th {\n",
       "        vertical-align: top;\n",
       "    }\n",
       "\n",
       "    .dataframe thead th {\n",
       "        text-align: right;\n",
       "    }\n",
       "</style>\n",
       "<table border=\"1\" class=\"dataframe\">\n",
       "  <thead>\n",
       "    <tr style=\"text-align: right;\">\n",
       "      <th></th>\n",
       "      <th>PassengerId</th>\n",
       "      <th>Pclass</th>\n",
       "      <th>Name</th>\n",
       "      <th>Sex</th>\n",
       "      <th>Age</th>\n",
       "      <th>SibSp</th>\n",
       "      <th>Parch</th>\n",
       "      <th>Ticket</th>\n",
       "      <th>Fare</th>\n",
       "      <th>Cabin</th>\n",
       "      <th>Embarked</th>\n",
       "    </tr>\n",
       "  </thead>\n",
       "  <tbody>\n",
       "    <tr>\n",
       "      <th>0</th>\n",
       "      <td>892</td>\n",
       "      <td>3</td>\n",
       "      <td>Kelly, Mr. James</td>\n",
       "      <td>male</td>\n",
       "      <td>34.5</td>\n",
       "      <td>0</td>\n",
       "      <td>0</td>\n",
       "      <td>330911</td>\n",
       "      <td>7.8292</td>\n",
       "      <td>NaN</td>\n",
       "      <td>Q</td>\n",
       "    </tr>\n",
       "    <tr>\n",
       "      <th>1</th>\n",
       "      <td>893</td>\n",
       "      <td>3</td>\n",
       "      <td>Wilkes, Mrs. James (Ellen Needs)</td>\n",
       "      <td>female</td>\n",
       "      <td>47.0</td>\n",
       "      <td>1</td>\n",
       "      <td>0</td>\n",
       "      <td>363272</td>\n",
       "      <td>7.0000</td>\n",
       "      <td>NaN</td>\n",
       "      <td>S</td>\n",
       "    </tr>\n",
       "    <tr>\n",
       "      <th>2</th>\n",
       "      <td>894</td>\n",
       "      <td>2</td>\n",
       "      <td>Myles, Mr. Thomas Francis</td>\n",
       "      <td>male</td>\n",
       "      <td>62.0</td>\n",
       "      <td>0</td>\n",
       "      <td>0</td>\n",
       "      <td>240276</td>\n",
       "      <td>9.6875</td>\n",
       "      <td>NaN</td>\n",
       "      <td>Q</td>\n",
       "    </tr>\n",
       "    <tr>\n",
       "      <th>3</th>\n",
       "      <td>895</td>\n",
       "      <td>3</td>\n",
       "      <td>Wirz, Mr. Albert</td>\n",
       "      <td>male</td>\n",
       "      <td>27.0</td>\n",
       "      <td>0</td>\n",
       "      <td>0</td>\n",
       "      <td>315154</td>\n",
       "      <td>8.6625</td>\n",
       "      <td>NaN</td>\n",
       "      <td>S</td>\n",
       "    </tr>\n",
       "    <tr>\n",
       "      <th>4</th>\n",
       "      <td>896</td>\n",
       "      <td>3</td>\n",
       "      <td>Hirvonen, Mrs. Alexander (Helga E Lindqvist)</td>\n",
       "      <td>female</td>\n",
       "      <td>22.0</td>\n",
       "      <td>1</td>\n",
       "      <td>1</td>\n",
       "      <td>3101298</td>\n",
       "      <td>12.2875</td>\n",
       "      <td>NaN</td>\n",
       "      <td>S</td>\n",
       "    </tr>\n",
       "  </tbody>\n",
       "</table>\n",
       "</div>"
      ],
      "text/plain": [
       "   PassengerId  Pclass                                          Name     Sex  \\\n",
       "0          892       3                              Kelly, Mr. James    male   \n",
       "1          893       3              Wilkes, Mrs. James (Ellen Needs)  female   \n",
       "2          894       2                     Myles, Mr. Thomas Francis    male   \n",
       "3          895       3                              Wirz, Mr. Albert    male   \n",
       "4          896       3  Hirvonen, Mrs. Alexander (Helga E Lindqvist)  female   \n",
       "\n",
       "    Age  SibSp  Parch   Ticket     Fare Cabin Embarked  \n",
       "0  34.5      0      0   330911   7.8292   NaN        Q  \n",
       "1  47.0      1      0   363272   7.0000   NaN        S  \n",
       "2  62.0      0      0   240276   9.6875   NaN        Q  \n",
       "3  27.0      0      0   315154   8.6625   NaN        S  \n",
       "4  22.0      1      1  3101298  12.2875   NaN        S  "
      ]
     },
     "execution_count": 26,
     "metadata": {},
     "output_type": "execute_result"
    }
   ],
   "source": [
    "test.head()"
   ]
  },
  {
   "cell_type": "code",
   "execution_count": 27,
   "id": "09dcaa78",
   "metadata": {
    "execution": {
     "iopub.execute_input": "2021-08-17T12:07:20.827984Z",
     "iopub.status.busy": "2021-08-17T12:07:20.827369Z",
     "iopub.status.idle": "2021-08-17T12:07:20.832076Z",
     "shell.execute_reply": "2021-08-17T12:07:20.832570Z",
     "shell.execute_reply.started": "2021-08-17T12:06:30.495064Z"
    },
    "papermill": {
     "duration": 0.069485,
     "end_time": "2021-08-17T12:07:20.832776",
     "exception": false,
     "start_time": "2021-08-17T12:07:20.763291",
     "status": "completed"
    },
    "tags": []
   },
   "outputs": [
    {
     "data": {
      "text/plain": [
       "(891, 11)"
      ]
     },
     "execution_count": 27,
     "metadata": {},
     "output_type": "execute_result"
    }
   ],
   "source": [
    "train.shape"
   ]
  },
  {
   "cell_type": "markdown",
   "id": "2f1084d4",
   "metadata": {
    "papermill": {
     "duration": 0.062507,
     "end_time": "2021-08-17T12:07:20.958133",
     "exception": false,
     "start_time": "2021-08-17T12:07:20.895626",
     "status": "completed"
    },
    "tags": []
   },
   "source": [
    "For easy handling, we will concatenate both the train and the test data. \n",
    "\n",
    "To differentiate between the train and the test data, we will include Source column.\n",
    "After preprocessing is done, we will be dropping it."
   ]
  },
  {
   "cell_type": "code",
   "execution_count": 28,
   "id": "7fc889c9",
   "metadata": {
    "execution": {
     "iopub.execute_input": "2021-08-17T12:07:21.088486Z",
     "iopub.status.busy": "2021-08-17T12:07:21.087828Z",
     "iopub.status.idle": "2021-08-17T12:07:21.100384Z",
     "shell.execute_reply": "2021-08-17T12:07:21.100910Z",
     "shell.execute_reply.started": "2021-08-17T12:06:30.504700Z"
    },
    "papermill": {
     "duration": 0.079493,
     "end_time": "2021-08-17T12:07:21.101080",
     "exception": false,
     "start_time": "2021-08-17T12:07:21.021587",
     "status": "completed"
    },
    "tags": []
   },
   "outputs": [
    {
     "data": {
      "text/plain": [
       "(1309, 13)"
      ]
     },
     "execution_count": 28,
     "metadata": {},
     "output_type": "execute_result"
    }
   ],
   "source": [
    "# Create Source Column in both Train and Test\n",
    "train['Source'] = \"Train\"\n",
    "test['Source'] = \"Test\"\n",
    "\n",
    "# Combine Train and Test\n",
    "FullRaw = pd.concat([train, test], axis = 0)\n",
    "FullRaw.shape\n"
   ]
  },
  {
   "cell_type": "code",
   "execution_count": 29,
   "id": "40c787fd",
   "metadata": {
    "execution": {
     "iopub.execute_input": "2021-08-17T12:07:21.230809Z",
     "iopub.status.busy": "2021-08-17T12:07:21.230203Z",
     "iopub.status.idle": "2021-08-17T12:07:21.249889Z",
     "shell.execute_reply": "2021-08-17T12:07:21.249364Z",
     "shell.execute_reply.started": "2021-08-17T12:06:30.526498Z"
    },
    "papermill": {
     "duration": 0.085768,
     "end_time": "2021-08-17T12:07:21.250030",
     "exception": false,
     "start_time": "2021-08-17T12:07:21.164262",
     "status": "completed"
    },
    "tags": []
   },
   "outputs": [
    {
     "data": {
      "text/html": [
       "<div>\n",
       "<style scoped>\n",
       "    .dataframe tbody tr th:only-of-type {\n",
       "        vertical-align: middle;\n",
       "    }\n",
       "\n",
       "    .dataframe tbody tr th {\n",
       "        vertical-align: top;\n",
       "    }\n",
       "\n",
       "    .dataframe thead th {\n",
       "        text-align: right;\n",
       "    }\n",
       "</style>\n",
       "<table border=\"1\" class=\"dataframe\">\n",
       "  <thead>\n",
       "    <tr style=\"text-align: right;\">\n",
       "      <th></th>\n",
       "      <th>PassengerId</th>\n",
       "      <th>Survived</th>\n",
       "      <th>Pclass</th>\n",
       "      <th>Name</th>\n",
       "      <th>Sex</th>\n",
       "      <th>Age</th>\n",
       "      <th>SibSp</th>\n",
       "      <th>Parch</th>\n",
       "      <th>Ticket</th>\n",
       "      <th>Fare</th>\n",
       "      <th>Embarked</th>\n",
       "      <th>Source</th>\n",
       "      <th>Cabin</th>\n",
       "    </tr>\n",
       "  </thead>\n",
       "  <tbody>\n",
       "    <tr>\n",
       "      <th>0</th>\n",
       "      <td>1</td>\n",
       "      <td>0.0</td>\n",
       "      <td>3</td>\n",
       "      <td>Braund, Mr. Owen Harris</td>\n",
       "      <td>male</td>\n",
       "      <td>22.0</td>\n",
       "      <td>1</td>\n",
       "      <td>0</td>\n",
       "      <td>A/5 21171</td>\n",
       "      <td>7.2500</td>\n",
       "      <td>S</td>\n",
       "      <td>Train</td>\n",
       "      <td>NaN</td>\n",
       "    </tr>\n",
       "    <tr>\n",
       "      <th>1</th>\n",
       "      <td>2</td>\n",
       "      <td>1.0</td>\n",
       "      <td>1</td>\n",
       "      <td>Cumings, Mrs. John Bradley (Florence Briggs Th...</td>\n",
       "      <td>female</td>\n",
       "      <td>38.0</td>\n",
       "      <td>1</td>\n",
       "      <td>0</td>\n",
       "      <td>PC 17599</td>\n",
       "      <td>71.2833</td>\n",
       "      <td>C</td>\n",
       "      <td>Train</td>\n",
       "      <td>NaN</td>\n",
       "    </tr>\n",
       "    <tr>\n",
       "      <th>2</th>\n",
       "      <td>3</td>\n",
       "      <td>1.0</td>\n",
       "      <td>3</td>\n",
       "      <td>Heikkinen, Miss. Laina</td>\n",
       "      <td>female</td>\n",
       "      <td>26.0</td>\n",
       "      <td>0</td>\n",
       "      <td>0</td>\n",
       "      <td>STON/O2. 3101282</td>\n",
       "      <td>7.9250</td>\n",
       "      <td>S</td>\n",
       "      <td>Train</td>\n",
       "      <td>NaN</td>\n",
       "    </tr>\n",
       "    <tr>\n",
       "      <th>3</th>\n",
       "      <td>4</td>\n",
       "      <td>1.0</td>\n",
       "      <td>1</td>\n",
       "      <td>Futrelle, Mrs. Jacques Heath (Lily May Peel)</td>\n",
       "      <td>female</td>\n",
       "      <td>35.0</td>\n",
       "      <td>1</td>\n",
       "      <td>0</td>\n",
       "      <td>113803</td>\n",
       "      <td>53.1000</td>\n",
       "      <td>S</td>\n",
       "      <td>Train</td>\n",
       "      <td>NaN</td>\n",
       "    </tr>\n",
       "    <tr>\n",
       "      <th>4</th>\n",
       "      <td>5</td>\n",
       "      <td>0.0</td>\n",
       "      <td>3</td>\n",
       "      <td>Allen, Mr. William Henry</td>\n",
       "      <td>male</td>\n",
       "      <td>35.0</td>\n",
       "      <td>0</td>\n",
       "      <td>0</td>\n",
       "      <td>373450</td>\n",
       "      <td>8.0500</td>\n",
       "      <td>S</td>\n",
       "      <td>Train</td>\n",
       "      <td>NaN</td>\n",
       "    </tr>\n",
       "  </tbody>\n",
       "</table>\n",
       "</div>"
      ],
      "text/plain": [
       "   PassengerId  Survived  Pclass  \\\n",
       "0            1       0.0       3   \n",
       "1            2       1.0       1   \n",
       "2            3       1.0       3   \n",
       "3            4       1.0       1   \n",
       "4            5       0.0       3   \n",
       "\n",
       "                                                Name     Sex   Age  SibSp  \\\n",
       "0                            Braund, Mr. Owen Harris    male  22.0      1   \n",
       "1  Cumings, Mrs. John Bradley (Florence Briggs Th...  female  38.0      1   \n",
       "2                             Heikkinen, Miss. Laina  female  26.0      0   \n",
       "3       Futrelle, Mrs. Jacques Heath (Lily May Peel)  female  35.0      1   \n",
       "4                           Allen, Mr. William Henry    male  35.0      0   \n",
       "\n",
       "   Parch            Ticket     Fare Embarked Source Cabin  \n",
       "0      0         A/5 21171   7.2500        S  Train   NaN  \n",
       "1      0          PC 17599  71.2833        C  Train   NaN  \n",
       "2      0  STON/O2. 3101282   7.9250        S  Train   NaN  \n",
       "3      0            113803  53.1000        S  Train   NaN  \n",
       "4      0            373450   8.0500        S  Train   NaN  "
      ]
     },
     "execution_count": 29,
     "metadata": {},
     "output_type": "execute_result"
    }
   ],
   "source": [
    "FullRaw.head()"
   ]
  },
  {
   "cell_type": "code",
   "execution_count": 30,
   "id": "325e3894",
   "metadata": {
    "execution": {
     "iopub.execute_input": "2021-08-17T12:07:21.383121Z",
     "iopub.status.busy": "2021-08-17T12:07:21.382471Z",
     "iopub.status.idle": "2021-08-17T12:07:21.388591Z",
     "shell.execute_reply": "2021-08-17T12:07:21.389088Z",
     "shell.execute_reply.started": "2021-08-17T12:06:30.551924Z"
    },
    "papermill": {
     "duration": 0.075882,
     "end_time": "2021-08-17T12:07:21.389264",
     "exception": false,
     "start_time": "2021-08-17T12:07:21.313382",
     "status": "completed"
    },
    "tags": []
   },
   "outputs": [],
   "source": [
    "# Removing PassengerId,Cabin,Name and Ticket columns\n",
    "FullRaw.drop(['PassengerId'], axis = 1, inplace = True)\n",
    "FullRaw.drop(['Cabin'], axis = 1, inplace = True)\n",
    "\n",
    "FullRaw.drop(['Name'], axis = 1, inplace = True)\n",
    "FullRaw.drop(['Ticket'], axis = 1, inplace = True)\n"
   ]
  },
  {
   "cell_type": "code",
   "execution_count": 31,
   "id": "d01880ef",
   "metadata": {
    "execution": {
     "iopub.execute_input": "2021-08-17T12:07:21.530134Z",
     "iopub.status.busy": "2021-08-17T12:07:21.529340Z",
     "iopub.status.idle": "2021-08-17T12:07:21.532889Z",
     "shell.execute_reply": "2021-08-17T12:07:21.532307Z",
     "shell.execute_reply.started": "2021-08-17T12:06:30.565508Z"
    },
    "papermill": {
     "duration": 0.079873,
     "end_time": "2021-08-17T12:07:21.533027",
     "exception": false,
     "start_time": "2021-08-17T12:07:21.453154",
     "status": "completed"
    },
    "tags": []
   },
   "outputs": [
    {
     "data": {
      "text/plain": [
       "Survived    418\n",
       "Pclass        0\n",
       "Sex           0\n",
       "Age         263\n",
       "SibSp         0\n",
       "Parch         0\n",
       "Fare          1\n",
       "Embarked      2\n",
       "Source        0\n",
       "dtype: int64"
      ]
     },
     "execution_count": 31,
     "metadata": {},
     "output_type": "execute_result"
    }
   ],
   "source": [
    "FullRaw.isnull().sum()"
   ]
  },
  {
   "cell_type": "markdown",
   "id": "529bcfde",
   "metadata": {
    "papermill": {
     "duration": 0.063494,
     "end_time": "2021-08-17T12:07:21.660697",
     "exception": false,
     "start_time": "2021-08-17T12:07:21.597203",
     "status": "completed"
    },
    "tags": []
   },
   "source": [
    "### **Imputing missing values**"
   ]
  },
  {
   "cell_type": "code",
   "execution_count": 32,
   "id": "c4d5a07c",
   "metadata": {
    "execution": {
     "iopub.execute_input": "2021-08-17T12:07:21.803288Z",
     "iopub.status.busy": "2021-08-17T12:07:21.796836Z",
     "iopub.status.idle": "2021-08-17T12:07:21.806538Z",
     "shell.execute_reply": "2021-08-17T12:07:21.807148Z",
     "shell.execute_reply.started": "2021-08-17T12:06:30.579508Z"
    },
    "papermill": {
     "duration": 0.082276,
     "end_time": "2021-08-17T12:07:21.807308",
     "exception": false,
     "start_time": "2021-08-17T12:07:21.725032",
     "status": "completed"
    },
    "tags": []
   },
   "outputs": [
    {
     "data": {
      "text/plain": [
       "Survived    418\n",
       "Pclass        0\n",
       "Sex           0\n",
       "Age           0\n",
       "SibSp         0\n",
       "Parch         0\n",
       "Fare          0\n",
       "Embarked      0\n",
       "Source        0\n",
       "dtype: int64"
      ]
     },
     "execution_count": 32,
     "metadata": {},
     "output_type": "execute_result"
    }
   ],
   "source": [
    "# We will impute the missing values for Age,Fare and Embarked \n",
    "\n",
    "tempMedian=FullRaw['Age'].median()\n",
    "FullRaw['Age']= FullRaw['Age'].fillna(tempMedian)\n",
    "\n",
    "\n",
    "tempMedian=FullRaw['Fare'].median()\n",
    "FullRaw['Fare']= FullRaw['Fare'].fillna(tempMedian)\n",
    "\n",
    "tempMode=FullRaw['Embarked'].mode()[0]\n",
    "FullRaw['Embarked']= FullRaw['Embarked'].fillna(tempMode)\n",
    "\n",
    "\n",
    "FullRaw.isnull().sum()"
   ]
  },
  {
   "cell_type": "markdown",
   "id": "21e5296f",
   "metadata": {
    "papermill": {
     "duration": 0.063935,
     "end_time": "2021-08-17T12:07:21.935268",
     "exception": false,
     "start_time": "2021-08-17T12:07:21.871333",
     "status": "completed"
    },
    "tags": []
   },
   "source": [
    "### One hot encoding\n",
    "\n"
   ]
  },
  {
   "cell_type": "markdown",
   "id": "84bc0eda",
   "metadata": {
    "papermill": {
     "duration": 0.064095,
     "end_time": "2021-08-17T12:07:22.065065",
     "exception": false,
     "start_time": "2021-08-17T12:07:22.000970",
     "status": "completed"
    },
    "tags": []
   },
   "source": [
    "We are going to create dummy variables to include the categorical data for modelling. "
   ]
  },
  {
   "cell_type": "code",
   "execution_count": 33,
   "id": "6fa89193",
   "metadata": {
    "execution": {
     "iopub.execute_input": "2021-08-17T12:07:22.198116Z",
     "iopub.status.busy": "2021-08-17T12:07:22.197105Z",
     "iopub.status.idle": "2021-08-17T12:07:22.210141Z",
     "shell.execute_reply": "2021-08-17T12:07:22.210687Z",
     "shell.execute_reply.started": "2021-08-17T12:06:30.599666Z"
    },
    "papermill": {
     "duration": 0.080632,
     "end_time": "2021-08-17T12:07:22.210849",
     "exception": false,
     "start_time": "2021-08-17T12:07:22.130217",
     "status": "completed"
    },
    "tags": []
   },
   "outputs": [
    {
     "data": {
      "text/plain": [
       "(1309, 10)"
      ]
     },
     "execution_count": 33,
     "metadata": {},
     "output_type": "execute_result"
    }
   ],
   "source": [
    "FullRaw2= pd.get_dummies(FullRaw,drop_first= True)\n",
    "FullRaw2.shape"
   ]
  },
  {
   "cell_type": "code",
   "execution_count": 34,
   "id": "9801906e",
   "metadata": {
    "execution": {
     "iopub.execute_input": "2021-08-17T12:07:22.343782Z",
     "iopub.status.busy": "2021-08-17T12:07:22.342789Z",
     "iopub.status.idle": "2021-08-17T12:07:22.358686Z",
     "shell.execute_reply": "2021-08-17T12:07:22.359251Z",
     "shell.execute_reply.started": "2021-08-17T12:06:30.621621Z"
    },
    "papermill": {
     "duration": 0.084049,
     "end_time": "2021-08-17T12:07:22.359438",
     "exception": false,
     "start_time": "2021-08-17T12:07:22.275389",
     "status": "completed"
    },
    "tags": []
   },
   "outputs": [
    {
     "data": {
      "text/html": [
       "<div>\n",
       "<style scoped>\n",
       "    .dataframe tbody tr th:only-of-type {\n",
       "        vertical-align: middle;\n",
       "    }\n",
       "\n",
       "    .dataframe tbody tr th {\n",
       "        vertical-align: top;\n",
       "    }\n",
       "\n",
       "    .dataframe thead th {\n",
       "        text-align: right;\n",
       "    }\n",
       "</style>\n",
       "<table border=\"1\" class=\"dataframe\">\n",
       "  <thead>\n",
       "    <tr style=\"text-align: right;\">\n",
       "      <th></th>\n",
       "      <th>Survived</th>\n",
       "      <th>Pclass</th>\n",
       "      <th>Age</th>\n",
       "      <th>SibSp</th>\n",
       "      <th>Parch</th>\n",
       "      <th>Fare</th>\n",
       "      <th>Sex_male</th>\n",
       "      <th>Embarked_Q</th>\n",
       "      <th>Embarked_S</th>\n",
       "      <th>Source_Train</th>\n",
       "    </tr>\n",
       "  </thead>\n",
       "  <tbody>\n",
       "    <tr>\n",
       "      <th>0</th>\n",
       "      <td>0.0</td>\n",
       "      <td>3</td>\n",
       "      <td>22.0</td>\n",
       "      <td>1</td>\n",
       "      <td>0</td>\n",
       "      <td>7.2500</td>\n",
       "      <td>1</td>\n",
       "      <td>0</td>\n",
       "      <td>1</td>\n",
       "      <td>1</td>\n",
       "    </tr>\n",
       "    <tr>\n",
       "      <th>1</th>\n",
       "      <td>1.0</td>\n",
       "      <td>1</td>\n",
       "      <td>38.0</td>\n",
       "      <td>1</td>\n",
       "      <td>0</td>\n",
       "      <td>71.2833</td>\n",
       "      <td>0</td>\n",
       "      <td>0</td>\n",
       "      <td>0</td>\n",
       "      <td>1</td>\n",
       "    </tr>\n",
       "    <tr>\n",
       "      <th>2</th>\n",
       "      <td>1.0</td>\n",
       "      <td>3</td>\n",
       "      <td>26.0</td>\n",
       "      <td>0</td>\n",
       "      <td>0</td>\n",
       "      <td>7.9250</td>\n",
       "      <td>0</td>\n",
       "      <td>0</td>\n",
       "      <td>1</td>\n",
       "      <td>1</td>\n",
       "    </tr>\n",
       "    <tr>\n",
       "      <th>3</th>\n",
       "      <td>1.0</td>\n",
       "      <td>1</td>\n",
       "      <td>35.0</td>\n",
       "      <td>1</td>\n",
       "      <td>0</td>\n",
       "      <td>53.1000</td>\n",
       "      <td>0</td>\n",
       "      <td>0</td>\n",
       "      <td>1</td>\n",
       "      <td>1</td>\n",
       "    </tr>\n",
       "    <tr>\n",
       "      <th>4</th>\n",
       "      <td>0.0</td>\n",
       "      <td>3</td>\n",
       "      <td>35.0</td>\n",
       "      <td>0</td>\n",
       "      <td>0</td>\n",
       "      <td>8.0500</td>\n",
       "      <td>1</td>\n",
       "      <td>0</td>\n",
       "      <td>1</td>\n",
       "      <td>1</td>\n",
       "    </tr>\n",
       "  </tbody>\n",
       "</table>\n",
       "</div>"
      ],
      "text/plain": [
       "   Survived  Pclass   Age  SibSp  Parch     Fare  Sex_male  Embarked_Q  \\\n",
       "0       0.0       3  22.0      1      0   7.2500         1           0   \n",
       "1       1.0       1  38.0      1      0  71.2833         0           0   \n",
       "2       1.0       3  26.0      0      0   7.9250         0           0   \n",
       "3       1.0       1  35.0      1      0  53.1000         0           0   \n",
       "4       0.0       3  35.0      0      0   8.0500         1           0   \n",
       "\n",
       "   Embarked_S  Source_Train  \n",
       "0           1             1  \n",
       "1           0             1  \n",
       "2           1             1  \n",
       "3           1             1  \n",
       "4           1             1  "
      ]
     },
     "execution_count": 34,
     "metadata": {},
     "output_type": "execute_result"
    }
   ],
   "source": [
    "# Checking our dummy variables\n",
    "FullRaw2.head()"
   ]
  },
  {
   "cell_type": "code",
   "execution_count": 35,
   "id": "406ba8df",
   "metadata": {
    "execution": {
     "iopub.execute_input": "2021-08-17T12:07:22.499589Z",
     "iopub.status.busy": "2021-08-17T12:07:22.498669Z",
     "iopub.status.idle": "2021-08-17T12:07:22.512898Z",
     "shell.execute_reply": "2021-08-17T12:07:22.512043Z",
     "shell.execute_reply.started": "2021-08-17T12:06:30.640414Z"
    },
    "papermill": {
     "duration": 0.082367,
     "end_time": "2021-08-17T12:07:22.513077",
     "exception": false,
     "start_time": "2021-08-17T12:07:22.430710",
     "status": "completed"
    },
    "tags": []
   },
   "outputs": [
    {
     "name": "stdout",
     "output_type": "stream",
     "text": [
      "(891, 9)\n"
     ]
    },
    {
     "data": {
      "text/plain": [
       "(418, 9)"
      ]
     },
     "execution_count": 35,
     "metadata": {},
     "output_type": "execute_result"
    }
   ],
   "source": [
    "# We are separating the train and the test data, and dropping the Source column as all our preprecessing work is done.\n",
    "Train2 = FullRaw2[FullRaw2['Source_Train'] == 1].drop(['Source_Train'], axis = 1).copy()\n",
    "FinalTest = FullRaw2[FullRaw2['Source_Train'] == 0].drop(['Source_Train'], axis = 1).copy()\n",
    "\n",
    "print(Train2.shape)\n",
    "FinalTest.shape"
   ]
  },
  {
   "cell_type": "markdown",
   "id": "20c39f78",
   "metadata": {
    "papermill": {
     "duration": 0.065547,
     "end_time": "2021-08-17T12:07:22.644684",
     "exception": false,
     "start_time": "2021-08-17T12:07:22.579137",
     "status": "completed"
    },
    "tags": []
   },
   "source": [
    "### **Splitting the data**"
   ]
  },
  {
   "cell_type": "code",
   "execution_count": 36,
   "id": "42346b2e",
   "metadata": {
    "execution": {
     "iopub.execute_input": "2021-08-17T12:07:22.783223Z",
     "iopub.status.busy": "2021-08-17T12:07:22.782541Z",
     "iopub.status.idle": "2021-08-17T12:07:22.949515Z",
     "shell.execute_reply": "2021-08-17T12:07:22.948855Z",
     "shell.execute_reply.started": "2021-08-17T12:06:30.663555Z"
    },
    "papermill": {
     "duration": 0.239299,
     "end_time": "2021-08-17T12:07:22.949679",
     "exception": false,
     "start_time": "2021-08-17T12:07:22.710380",
     "status": "completed"
    },
    "tags": []
   },
   "outputs": [],
   "source": [
    "from sklearn.model_selection import train_test_split\n",
    "Train, Test = train_test_split(Train2, train_size=0.8, random_state = 150)\n",
    "\n",
    "\n",
    "X_train = Train.drop(['Survived'], axis = 1).copy()\n",
    "y_train = Train['Survived'].copy()\n",
    "X_test = Test.drop(['Survived'], axis = 1).copy()\n",
    "y_test = Test['Survived'].copy()\n",
    "FinalTest_X = FinalTest.drop(['Survived'], axis = 1).copy()\n",
    "FinalTest_Y = FinalTest['Survived'].copy()"
   ]
  },
  {
   "cell_type": "markdown",
   "id": "7173786c",
   "metadata": {
    "papermill": {
     "duration": 0.065238,
     "end_time": "2021-08-17T12:07:23.080768",
     "exception": false,
     "start_time": "2021-08-17T12:07:23.015530",
     "status": "completed"
    },
    "tags": []
   },
   "source": [
    "### **Scaling the features**"
   ]
  },
  {
   "cell_type": "code",
   "execution_count": 37,
   "id": "93ae62b9",
   "metadata": {
    "execution": {
     "iopub.execute_input": "2021-08-17T12:07:23.221729Z",
     "iopub.status.busy": "2021-08-17T12:07:23.220323Z",
     "iopub.status.idle": "2021-08-17T12:07:23.229232Z",
     "shell.execute_reply": "2021-08-17T12:07:23.228706Z",
     "shell.execute_reply.started": "2021-08-17T12:06:30.678290Z"
    },
    "papermill": {
     "duration": 0.08137,
     "end_time": "2021-08-17T12:07:23.229380",
     "exception": false,
     "start_time": "2021-08-17T12:07:23.148010",
     "status": "completed"
    },
    "tags": []
   },
   "outputs": [
    {
     "data": {
      "text/plain": [
       "StandardScaler()"
      ]
     },
     "execution_count": 37,
     "metadata": {},
     "output_type": "execute_result"
    }
   ],
   "source": [
    "from sklearn.preprocessing import StandardScaler\n",
    "\n",
    "scaler= StandardScaler()\n",
    "scaler.fit(X_train)"
   ]
  },
  {
   "cell_type": "code",
   "execution_count": 38,
   "id": "e7ad6444",
   "metadata": {
    "execution": {
     "iopub.execute_input": "2021-08-17T12:07:23.373908Z",
     "iopub.status.busy": "2021-08-17T12:07:23.373136Z",
     "iopub.status.idle": "2021-08-17T12:07:23.376665Z",
     "shell.execute_reply": "2021-08-17T12:07:23.376006Z",
     "shell.execute_reply.started": "2021-08-17T12:06:30.691580Z"
    },
    "papermill": {
     "duration": 0.080977,
     "end_time": "2021-08-17T12:07:23.376801",
     "exception": false,
     "start_time": "2021-08-17T12:07:23.295824",
     "status": "completed"
    },
    "tags": []
   },
   "outputs": [],
   "source": [
    "X_train = scaler.transform(X_train)\n",
    "X_test = scaler.transform(X_test)\n",
    "FinalTest_X=scaler.transform(FinalTest_X)"
   ]
  },
  {
   "cell_type": "markdown",
   "id": "0ea323fc",
   "metadata": {
    "papermill": {
     "duration": 0.067704,
     "end_time": "2021-08-17T12:07:23.510681",
     "exception": false,
     "start_time": "2021-08-17T12:07:23.442977",
     "status": "completed"
    },
    "tags": []
   },
   "source": [
    "### **Building the model**"
   ]
  },
  {
   "cell_type": "markdown",
   "id": "89f880c4",
   "metadata": {
    "papermill": {
     "duration": 0.065846,
     "end_time": "2021-08-17T12:07:23.642838",
     "exception": false,
     "start_time": "2021-08-17T12:07:23.576992",
     "status": "completed"
    },
    "tags": []
   },
   "source": [
    "We are going to build a simple ensemble model on Logistic Regression, KNN and Random Forest. Predictions are done based on majority voting."
   ]
  },
  {
   "cell_type": "code",
   "execution_count": 39,
   "id": "e750e561",
   "metadata": {
    "execution": {
     "iopub.execute_input": "2021-08-17T12:07:23.781159Z",
     "iopub.status.busy": "2021-08-17T12:07:23.780422Z",
     "iopub.status.idle": "2021-08-17T12:07:24.513791Z",
     "shell.execute_reply": "2021-08-17T12:07:24.514412Z",
     "shell.execute_reply.started": "2021-08-17T12:06:30.708820Z"
    },
    "papermill": {
     "duration": 0.806107,
     "end_time": "2021-08-17T12:07:24.514620",
     "exception": false,
     "start_time": "2021-08-17T12:07:23.708513",
     "status": "completed"
    },
    "tags": []
   },
   "outputs": [
    {
     "name": "stdout",
     "output_type": "stream",
     "text": [
      "[12:07:24] WARNING: ../src/learner.cc:1095: Starting in XGBoost 1.3.0, the default evaluation metric used with the objective 'binary:logistic' was changed from 'error' to 'logloss'. Explicitly set eval_metric if you'd like to restore the old behavior.\n"
     ]
    },
    {
     "name": "stderr",
     "output_type": "stream",
     "text": [
      "/opt/conda/lib/python3.7/site-packages/xgboost/sklearn.py:1146: UserWarning: The use of label encoder in XGBClassifier is deprecated and will be removed in a future release. To remove this warning, do the following: 1) Pass option use_label_encoder=False when constructing XGBClassifier object; and 2) Encode your labels (y) as integers starting with 0, i.e. 0, 1, 2, ..., [num_class - 1].\n",
      "  warnings.warn(label_encoder_deprecation_msg, UserWarning)\n"
     ]
    }
   ],
   "source": [
    "from sklearn.linear_model import LogisticRegression\n",
    "from sklearn.ensemble import RandomForestClassifier\n",
    "from xgboost import XGBClassifier\n",
    "import statistics\n",
    "\n",
    "model1 = RandomForestClassifier()\n",
    "model2 = LogisticRegression()\n",
    "model3 = XGBClassifier()\n",
    "\n",
    "model1.fit(X_train,y_train)\n",
    "model2.fit(X_train,y_train)\n",
    "model3.fit(X_train,y_train)\n",
    "\n",
    "pred1=model1.predict(X_test)\n",
    "pred2=model2.predict(X_test)\n",
    "pred3=model3.predict(X_test)\n",
    "\n",
    "final_pred = np.array([])\n",
    "for i in range(0,len(X_test)):\n",
    "    final_pred = np.append(final_pred, statistics.mode([pred1[i], pred2[i], pred3[i]]))\n",
    "    \n"
   ]
  },
  {
   "cell_type": "code",
   "execution_count": 40,
   "id": "909104b7",
   "metadata": {
    "execution": {
     "iopub.execute_input": "2021-08-17T12:07:24.674730Z",
     "iopub.status.busy": "2021-08-17T12:07:24.674000Z",
     "iopub.status.idle": "2021-08-17T12:07:24.676880Z",
     "shell.execute_reply": "2021-08-17T12:07:24.677466Z",
     "shell.execute_reply.started": "2021-08-17T12:06:31.008927Z"
    },
    "papermill": {
     "duration": 0.07769,
     "end_time": "2021-08-17T12:07:24.677651",
     "exception": false,
     "start_time": "2021-08-17T12:07:24.599961",
     "status": "completed"
    },
    "tags": []
   },
   "outputs": [
    {
     "name": "stdout",
     "output_type": "stream",
     "text": [
      "[0. 0. 1. 1. 0. 0. 0. 0. 1. 1. 0. 0. 0. 1. 0. 0. 1. 0. 0. 0. 0. 0. 1. 0.\n",
      " 1. 1. 0. 1. 0. 0. 1. 0. 1. 0. 0. 0. 0. 0. 0. 0. 0. 1. 0. 0. 1. 0. 0. 0.\n",
      " 0. 1. 1. 0. 1. 0. 0. 1. 0. 1. 1. 0. 1. 0. 0. 0. 0. 1. 0. 0. 1. 1. 1. 0.\n",
      " 1. 1. 0. 0. 1. 0. 0. 0. 1. 0. 0. 0. 0. 0. 0. 0. 0. 0. 0. 0. 1. 1. 0. 0.\n",
      " 1. 1. 0. 0. 0. 0. 1. 1. 0. 0. 1. 0. 0. 0. 1. 0. 1. 0. 0. 1. 1. 1. 0. 1.\n",
      " 0. 0. 0. 0. 0. 0. 0. 0. 0. 0. 1. 1. 1. 1. 0. 0. 0. 0. 0. 1. 0. 1. 0. 0.\n",
      " 0. 1. 1. 0. 1. 0. 0. 1. 0. 1. 0. 0. 0. 0. 1. 0. 0. 1. 0. 0. 0. 1. 0. 1.\n",
      " 0. 1. 0. 1. 1. 1. 0. 0. 0. 0. 0.]\n"
     ]
    }
   ],
   "source": [
    "print(final_pred)"
   ]
  },
  {
   "cell_type": "code",
   "execution_count": 41,
   "id": "bcb1be73",
   "metadata": {
    "execution": {
     "iopub.execute_input": "2021-08-17T12:07:24.822715Z",
     "iopub.status.busy": "2021-08-17T12:07:24.822109Z",
     "iopub.status.idle": "2021-08-17T12:07:24.828045Z",
     "shell.execute_reply": "2021-08-17T12:07:24.828603Z",
     "shell.execute_reply.started": "2021-08-17T12:06:31.017398Z"
    },
    "papermill": {
     "duration": 0.076,
     "end_time": "2021-08-17T12:07:24.828803",
     "exception": false,
     "start_time": "2021-08-17T12:07:24.752803",
     "status": "completed"
    },
    "tags": []
   },
   "outputs": [
    {
     "data": {
      "text/plain": [
       "0.8659217877094972"
      ]
     },
     "execution_count": 41,
     "metadata": {},
     "output_type": "execute_result"
    }
   ],
   "source": [
    "from sklearn.metrics import accuracy_score, confusion_matrix, classification_report\n",
    "accuracy_score(y_test, final_pred)"
   ]
  },
  {
   "cell_type": "code",
   "execution_count": 42,
   "id": "54b40c0e",
   "metadata": {
    "execution": {
     "iopub.execute_input": "2021-08-17T12:07:24.965858Z",
     "iopub.status.busy": "2021-08-17T12:07:24.965227Z",
     "iopub.status.idle": "2021-08-17T12:07:24.973911Z",
     "shell.execute_reply": "2021-08-17T12:07:24.973407Z",
     "shell.execute_reply.started": "2021-08-17T12:06:31.033340Z"
    },
    "papermill": {
     "duration": 0.078533,
     "end_time": "2021-08-17T12:07:24.974043",
     "exception": false,
     "start_time": "2021-08-17T12:07:24.895510",
     "status": "completed"
    },
    "tags": []
   },
   "outputs": [
    {
     "data": {
      "text/plain": [
       "array([[102,   8],\n",
       "       [ 16,  53]])"
      ]
     },
     "execution_count": 42,
     "metadata": {},
     "output_type": "execute_result"
    }
   ],
   "source": [
    "confusion_matrix(y_test, final_pred)"
   ]
  },
  {
   "cell_type": "code",
   "execution_count": 43,
   "id": "2920eef9",
   "metadata": {
    "execution": {
     "iopub.execute_input": "2021-08-17T12:07:25.113446Z",
     "iopub.status.busy": "2021-08-17T12:07:25.112831Z",
     "iopub.status.idle": "2021-08-17T12:07:25.121920Z",
     "shell.execute_reply": "2021-08-17T12:07:25.122614Z",
     "shell.execute_reply.started": "2021-08-17T12:06:31.051272Z"
    },
    "papermill": {
     "duration": 0.08182,
     "end_time": "2021-08-17T12:07:25.122850",
     "exception": false,
     "start_time": "2021-08-17T12:07:25.041030",
     "status": "completed"
    },
    "tags": []
   },
   "outputs": [
    {
     "name": "stdout",
     "output_type": "stream",
     "text": [
      "              precision    recall  f1-score   support\n",
      "\n",
      "         0.0       0.86      0.93      0.89       110\n",
      "         1.0       0.87      0.77      0.82        69\n",
      "\n",
      "    accuracy                           0.87       179\n",
      "   macro avg       0.87      0.85      0.86       179\n",
      "weighted avg       0.87      0.87      0.86       179\n",
      "\n"
     ]
    }
   ],
   "source": [
    "print(classification_report(y_test, final_pred))"
   ]
  },
  {
   "cell_type": "markdown",
   "id": "2286e9ff",
   "metadata": {
    "papermill": {
     "duration": 0.067948,
     "end_time": "2021-08-17T12:07:25.259060",
     "exception": false,
     "start_time": "2021-08-17T12:07:25.191112",
     "status": "completed"
    },
    "tags": []
   },
   "source": [
    "### **Actual Test Prediction**"
   ]
  },
  {
   "cell_type": "code",
   "execution_count": 44,
   "id": "dd4b2d26",
   "metadata": {
    "execution": {
     "iopub.execute_input": "2021-08-17T12:07:25.412847Z",
     "iopub.status.busy": "2021-08-17T12:07:25.402368Z",
     "iopub.status.idle": "2021-08-17T12:07:25.744077Z",
     "shell.execute_reply": "2021-08-17T12:07:25.745056Z",
     "shell.execute_reply.started": "2021-08-17T12:06:31.065657Z"
    },
    "papermill": {
     "duration": 0.418022,
     "end_time": "2021-08-17T12:07:25.745281",
     "exception": false,
     "start_time": "2021-08-17T12:07:25.327259",
     "status": "completed"
    },
    "tags": []
   },
   "outputs": [
    {
     "name": "stdout",
     "output_type": "stream",
     "text": [
      "[12:07:25] WARNING: ../src/learner.cc:1095: Starting in XGBoost 1.3.0, the default evaluation metric used with the objective 'binary:logistic' was changed from 'error' to 'logloss'. Explicitly set eval_metric if you'd like to restore the old behavior.\n"
     ]
    },
    {
     "name": "stderr",
     "output_type": "stream",
     "text": [
      "/opt/conda/lib/python3.7/site-packages/xgboost/sklearn.py:1146: UserWarning: The use of label encoder in XGBClassifier is deprecated and will be removed in a future release. To remove this warning, do the following: 1) Pass option use_label_encoder=False when constructing XGBClassifier object; and 2) Encode your labels (y) as integers starting with 0, i.e. 0, 1, 2, ..., [num_class - 1].\n",
      "  warnings.warn(label_encoder_deprecation_msg, UserWarning)\n"
     ]
    }
   ],
   "source": [
    "from sklearn.linear_model import LogisticRegression\n",
    "from sklearn.ensemble import RandomForestClassifier\n",
    "from xgboost import XGBClassifier\n",
    "import statistics\n",
    "\n",
    "model1 = RandomForestClassifier()\n",
    "model2 = LogisticRegression()\n",
    "model3 = XGBClassifier()\n",
    "\n",
    "model1.fit(X_train,y_train)\n",
    "model2.fit(X_train,y_train)\n",
    "model3.fit(X_train,y_train)\n",
    "\n",
    "pred1=model1.predict(FinalTest_X)\n",
    "pred2=model2.predict(FinalTest_X)\n",
    "pred3=model3.predict(FinalTest_X)\n",
    "\n",
    "final_pred = np.array([])\n",
    "for i in range(0,len(FinalTest_X)):\n",
    "    final_pred = np.append(final_pred.astype(int), int(statistics.mode([pred1[i], pred2[i], pred3[i]])))\n",
    "    \n"
   ]
  },
  {
   "cell_type": "code",
   "execution_count": 45,
   "id": "0ac8077b",
   "metadata": {
    "execution": {
     "iopub.execute_input": "2021-08-17T12:07:25.893534Z",
     "iopub.status.busy": "2021-08-17T12:07:25.892914Z",
     "iopub.status.idle": "2021-08-17T12:07:25.900749Z",
     "shell.execute_reply": "2021-08-17T12:07:25.900210Z",
     "shell.execute_reply.started": "2021-08-17T12:06:31.377576Z"
    },
    "papermill": {
     "duration": 0.08133,
     "end_time": "2021-08-17T12:07:25.900881",
     "exception": false,
     "start_time": "2021-08-17T12:07:25.819551",
     "status": "completed"
    },
    "tags": []
   },
   "outputs": [
    {
     "name": "stdout",
     "output_type": "stream",
     "text": [
      "Your submission was successfully saved!\n"
     ]
    }
   ],
   "source": [
    "\n",
    "output = pd.DataFrame({'PassengerId': test.PassengerId, 'Survived': final_pred})\n",
    "output.to_csv('my_submission.csv', index=False)\n",
    "print(\"Your submission was successfully saved!\")"
   ]
  }
 ],
 "metadata": {
  "kernelspec": {
   "display_name": "Python 3",
   "language": "python",
   "name": "python3"
  },
  "language_info": {
   "codemirror_mode": {
    "name": "ipython",
    "version": 3
   },
   "file_extension": ".py",
   "mimetype": "text/x-python",
   "name": "python",
   "nbconvert_exporter": "python",
   "pygments_lexer": "ipython3",
   "version": "3.7.10"
  },
  "papermill": {
   "default_parameters": {},
   "duration": 23.824935,
   "end_time": "2021-08-17T12:07:27.220030",
   "environment_variables": {},
   "exception": null,
   "input_path": "__notebook__.ipynb",
   "output_path": "__notebook__.ipynb",
   "parameters": {},
   "start_time": "2021-08-17T12:07:03.395095",
   "version": "2.3.3"
  }
 },
 "nbformat": 4,
 "nbformat_minor": 5
}
